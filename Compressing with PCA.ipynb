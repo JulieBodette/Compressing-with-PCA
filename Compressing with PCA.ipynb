{
 "cells": [
  {
   "cell_type": "code",
   "execution_count": 1,
   "metadata": {},
   "outputs": [
    {
     "name": "stdout",
     "output_type": "stream",
     "text": [
      "[[0. 0. 0. ... 0. 0. 0.]\n",
      " [0. 0. 0. ... 0. 0. 0.]\n",
      " [0. 0. 0. ... 0. 0. 0.]\n",
      " ...\n",
      " [0. 0. 0. ... 0. 0. 0.]\n",
      " [0. 0. 0. ... 0. 0. 0.]\n",
      " [0. 0. 0. ... 0. 0. 0.]]\n"
     ]
    }
   ],
   "source": [
    "#Load the MNIST dataset and split it into a training and test set\n",
    "\n",
    "from sklearn.datasets import fetch_openml\n",
    "mnist = fetch_openml ('mnist_784', version=1)\n",
    "print(mnist.data)"
   ]
  },
  {
   "cell_type": "code",
   "execution_count": 2,
   "metadata": {},
   "outputs": [
    {
     "name": "stdout",
     "output_type": "stream",
     "text": [
      "X is  [[0. 0. 0. ... 0. 0. 0.]\n",
      " [0. 0. 0. ... 0. 0. 0.]\n",
      " [0. 0. 0. ... 0. 0. 0.]\n",
      " ...\n",
      " [0. 0. 0. ... 0. 0. 0.]\n",
      " [0. 0. 0. ... 0. 0. 0.]\n",
      " [0. 0. 0. ... 0. 0. 0.]]\n",
      "y is  ['5' '0' '4' ... '4' '5' '6']\n"
     ]
    }
   ],
   "source": [
    "#training = 60,000 test =10,000\n",
    "#print(mnist.target)\n",
    "#print(mnist.frame)\n",
    "\n",
    "X = mnist.data\n",
    "y= mnist.target\n",
    "print(\"X is \", X)\n",
    "print(\"y is \", y)"
   ]
  },
  {
   "cell_type": "code",
   "execution_count": 3,
   "metadata": {},
   "outputs": [],
   "source": [
    "X_train, X_test, y_train, y_test = X[:60000], X[60000:], y[:60000], y[60000:]"
   ]
  },
  {
   "cell_type": "code",
   "execution_count": 18,
   "metadata": {},
   "outputs": [
    {
     "name": "stdout",
     "output_type": "stream",
     "text": [
      "X_train 47040000\n",
      "X_test 7840000\n",
      "y_train 60000\n",
      "y_test 10000\n"
     ]
    }
   ],
   "source": [
    "print(\"X_train\",X_train.size)\n",
    "print(\"X_test\",X_test.size)\n",
    "print(\"y_train\",y_train.size)\n",
    "print(\"y_test\",y_test.size)"
   ]
  },
  {
   "cell_type": "code",
   "execution_count": 4,
   "metadata": {},
   "outputs": [
    {
     "name": "stdout",
     "output_type": "stream",
     "text": [
      "18.9 s ± 0 ns per loop (mean ± std. dev. of 1 run, 1 loop each)\n"
     ]
    }
   ],
   "source": [
    "%%timeit -r 1 -n 1\n",
    "#train a random forest classifier on the dataset and time how long it takes\n",
    "from sklearn.ensemble import RandomForestClassifier\n",
    "rnd_clf = RandomForestClassifier(n_estimators=500, max_leaf_nodes = 16, n_jobs = -1)\n",
    "rnd_clf.fit(X_train, y_train)\n",
    "#9.07 sec"
   ]
  },
  {
   "cell_type": "code",
   "execution_count": 5,
   "metadata": {},
   "outputs": [
    {
     "data": {
      "text/plain": [
       "RandomForestClassifier(max_leaf_nodes=16, n_estimators=500, n_jobs=-1)"
      ]
     },
     "execution_count": 5,
     "metadata": {},
     "output_type": "execute_result"
    }
   ],
   "source": [
    "#actually training it (not timing it)\n",
    "from sklearn.ensemble import RandomForestClassifier\n",
    "rnd_clf = RandomForestClassifier(n_estimators=500, max_leaf_nodes = 16, n_jobs = -1)\n",
    "rnd_clf.fit(X_train, y_train)"
   ]
  },
  {
   "cell_type": "code",
   "execution_count": 6,
   "metadata": {},
   "outputs": [
    {
     "name": "stdout",
     "output_type": "stream",
     "text": [
      "hi\n",
      "hi\n",
      "hi\n",
      "hi\n",
      "hi\n",
      "hi\n",
      "hi\n",
      "hi\n",
      "hi\n",
      "hi\n",
      "hi\n",
      "hi\n",
      "hi\n",
      "hi\n",
      "hi\n",
      "hi\n",
      "hi\n",
      "hi\n",
      "hi\n",
      "hi\n",
      "hi\n",
      "hi\n",
      "hi\n",
      "hi\n",
      "hi\n",
      "The slowest run took 5.23 times longer than the fastest. This could mean that an intermediate result is being cached.\n",
      "23.4 µs ± 20.2 µs per loop (mean ± std. dev. of 5 runs, 5 loops each)\n"
     ]
    }
   ],
   "source": [
    "%%timeit -r 5 -n 5\n",
    "print(\"hi\")"
   ]
  },
  {
   "cell_type": "code",
   "execution_count": 7,
   "metadata": {},
   "outputs": [
    {
     "name": "stdout",
     "output_type": "stream",
     "text": [
      "0.8324\n"
     ]
    }
   ],
   "source": [
    "#evaluate the random forest classifier on the test set (how accurate is it?)\n",
    "from sklearn.metrics import accuracy_score\n",
    "y_pred = rnd_clf.predict(X_test)\n",
    "accuracy = accuracy_score(y_test, y_pred)\n",
    "print(accuracy)"
   ]
  },
  {
   "cell_type": "code",
   "execution_count": 19,
   "metadata": {},
   "outputs": [],
   "source": [
    "#testing stuff\n",
    "pca = PCA(n_components = .95) \n",
    "X_reduced_train = pca.fit_transform(X_train)"
   ]
  },
  {
   "cell_type": "code",
   "execution_count": 23,
   "metadata": {},
   "outputs": [
    {
     "name": "stdout",
     "output_type": "stream",
     "text": [
      "9240000\n",
      "X train shape (60000, 784)\n",
      "X reduced train shape (60000, 154)\n"
     ]
    }
   ],
   "source": [
    "#print(X_reduced_train[0])\n",
    "print(X_reduced_train.size)\n",
    "print(\"X train shape\",X_train.shape)\n",
    "print(\"X reduced train shape\",X_reduced_train.shape)"
   ]
  },
  {
   "cell_type": "code",
   "execution_count": 8,
   "metadata": {},
   "outputs": [],
   "source": [
    "#use PCA to reduce the dataset's dimensionality, with explained variance ratio of 95%\n",
    "from sklearn.decomposition import PCA\n",
    "\n",
    "pca = PCA(n_components = 154)  #154 for compatibililty - so train and test are the same\n",
    "#X_reduced = pca.fit_transform(X_train)\n",
    "\n",
    "\n",
    "#reduce the training and the test set\n",
    "X_reduced_train = pca.fit_transform(X_train)\n",
    "X_reduced_test = pca.fit_transform(X_test)"
   ]
  },
  {
   "cell_type": "code",
   "execution_count": 9,
   "metadata": {},
   "outputs": [
    {
     "data": {
      "text/plain": [
       "RandomForestClassifier(max_leaf_nodes=16, n_estimators=500, n_jobs=-1)"
      ]
     },
     "execution_count": 9,
     "metadata": {},
     "output_type": "execute_result"
    }
   ],
   "source": [
    "#train a new Random Forest classsifier on the reduced dataset and see how long it takes\n",
    "from sklearn.ensemble import RandomForestClassifier\n",
    "rnd_clf2 = RandomForestClassifier(n_estimators=500, max_leaf_nodes = 16, n_jobs = -1)\n",
    "rnd_clf2.fit(X_reduced_train, y_train)"
   ]
  },
  {
   "cell_type": "code",
   "execution_count": 10,
   "metadata": {},
   "outputs": [
    {
     "name": "stdout",
     "output_type": "stream",
     "text": [
      "y_test 10000\n",
      "y_pred 10000\n",
      "X_train 47040000\n",
      "X_test 7840000\n",
      "y_train 60000\n",
      "y_test 10000\n",
      "0.1385\n"
     ]
    }
   ],
   "source": [
    "#evaluate the random forest classifier on the reduced dataset (how accurate is it?)\n",
    "#from sklearn.metrics import accuracy_score\n",
    "#y_pred = rnd_clf2.predict(X_reduced)\n",
    "#accuracy_score(y_test, y_pred)\n",
    "\n",
    "\n",
    "#need to fix ValueError: Found input variables with inconsistent numbers of samples: [10000, 60000]\n",
    "from sklearn.metrics import accuracy_score\n",
    "y_pred = rnd_clf2.predict(X_reduced_test)\n",
    "afterPCAaccuracy =accuracy_score(y_test, y_pred) #we need to make predictions on the TEST set\n",
    "print(\"y_test\", y_test.size)\n",
    "print(\"y_pred\",y_pred.size)\n",
    "\n",
    "\n",
    "print(\"X_train\",X_train.size)\n",
    "print(\"X_test\",X_test.size)\n",
    "print(\"y_train\",y_train.size)\n",
    "print(\"y_test\",y_test.size)\n",
    "\n",
    "#we need to make predictions on the TEST set!! -we were making them on the training set\n",
    "\n",
    "print(afterPCAaccuracy)"
   ]
  },
  {
   "cell_type": "markdown",
   "metadata": {},
   "source": [
    "#Answer the questions:\n",
    "#Can a Random Forest classifier be trained more quickly on the MNIST dataset if we reduce the number of dimensions?\n",
    "#Is the classifier less accurate if we reduce the number of dimensions? How much less accurate is it?"
   ]
  }
 ],
 "metadata": {
  "kernelspec": {
   "display_name": "Python 3",
   "language": "python",
   "name": "python3"
  },
  "language_info": {
   "codemirror_mode": {
    "name": "ipython",
    "version": 3
   },
   "file_extension": ".py",
   "mimetype": "text/x-python",
   "name": "python",
   "nbconvert_exporter": "python",
   "pygments_lexer": "ipython3",
   "version": "3.7.7"
  }
 },
 "nbformat": 4,
 "nbformat_minor": 5
}
