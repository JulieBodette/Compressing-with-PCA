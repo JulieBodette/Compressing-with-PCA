{
 "cells": [
  {
   "cell_type": "code",
   "execution_count": 1,
   "id": "2a6aea81",
   "metadata": {},
   "outputs": [],
   "source": [
    "#Load the MNIST dataset and split it into a training and test set\n",
    "#training = 60,000 test =10,000\n",
    "\n",
    "#train a random forest classifier on the dataset and time how long it takes\n",
    "\n",
    "#evaluate the random forest classifier on the test set (how accurate is it?)\n",
    "\n",
    "#use PCA to redcue the dataset's dimensionality, with explained variance ratio of 95%\n",
    "\n",
    "#train a new Random Forest classsifier on the reduced dataset and see how long it takes\n",
    "\n",
    "#evaluate the random forest classifier on the reduced dataset (how acc"
   ]
  },
  {
   "cell_type": "code",
   "execution_count": 2,
   "id": "8e437970",
   "metadata": {},
   "outputs": [
    {
     "name": "stdout",
     "output_type": "stream",
     "text": [
      "hi\n"
     ]
    }
   ],
   "source": [
    "print(\"hi\")"
   ]
  },
  {
   "cell_type": "code",
   "execution_count": 1,
   "id": "839692f8",
   "metadata": {},
   "outputs": [],
   "source": [
    "#new comment"
   ]
  },
  {
   "cell_type": "code",
   "execution_count": null,
   "id": "4573d332",
   "metadata": {},
   "outputs": [],
   "source": []
  }
 ],
 "metadata": {
  "kernelspec": {
   "display_name": "Python 3 (ipykernel)",
   "language": "python",
   "name": "python3"
  },
  "language_info": {
   "codemirror_mode": {
    "name": "ipython",
    "version": 3
   },
   "file_extension": ".py",
   "mimetype": "text/x-python",
   "name": "python",
   "nbconvert_exporter": "python",
   "pygments_lexer": "ipython3",
   "version": "3.7.11"
  }
 },
 "nbformat": 4,
 "nbformat_minor": 5
}
